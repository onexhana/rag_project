{
  "cells": [
    {
      "cell_type": "markdown",
      "id": "26347a50",
      "metadata": {
        "id": "26347a50"
      },
      "source": [
        "# 📚 인공지능기획및실습 RAG과제 _특허 질의 검색 시스템\n",
        "\n",
        "인공지능기획및실습_202284045 강하나\n",
        "\n",
        "---\n",
        "### ✅ 사용 예시:\n",
        "- 출원인이 '티쓰리큐 주식회사'인 특허를 알려줘\n",
        "- 출원일이 2023.03.01 - 2023.03.20 안에 있는 것들 알려줘\n",
        "- 출원인 국적 한국 몇명인지 알려줘\n",
        "---"
      ]
    },
    {
      "cell_type": "markdown",
      "id": "519c164a",
      "metadata": {
        "id": "519c164a"
      },
      "source": [
        "## 🔹 1. 필수 패키지 로드 및 엑셀 업로드"
      ]
    },
    {
      "cell_type": "code",
      "execution_count": 9,
      "id": "41325ff0",
      "metadata": {
        "colab": {
          "base_uri": "https://localhost:8080/",
          "height": 77
        },
        "id": "41325ff0",
        "outputId": "b7d1e3f1-22d6-4f36-c69e-2ebf2a455af0"
      },
      "outputs": [
        {
          "output_type": "display_data",
          "data": {
            "text/plain": [
              "<IPython.core.display.HTML object>"
            ],
            "text/html": [
              "\n",
              "     <input type=\"file\" id=\"files-834e0a17-ac5e-4392-b8ee-dace3cfedf3f\" name=\"files[]\" multiple disabled\n",
              "        style=\"border:none\" />\n",
              "     <output id=\"result-834e0a17-ac5e-4392-b8ee-dace3cfedf3f\">\n",
              "      Upload widget is only available when the cell has been executed in the\n",
              "      current browser session. Please rerun this cell to enable.\n",
              "      </output>\n",
              "      <script>// Copyright 2017 Google LLC\n",
              "//\n",
              "// Licensed under the Apache License, Version 2.0 (the \"License\");\n",
              "// you may not use this file except in compliance with the License.\n",
              "// You may obtain a copy of the License at\n",
              "//\n",
              "//      http://www.apache.org/licenses/LICENSE-2.0\n",
              "//\n",
              "// Unless required by applicable law or agreed to in writing, software\n",
              "// distributed under the License is distributed on an \"AS IS\" BASIS,\n",
              "// WITHOUT WARRANTIES OR CONDITIONS OF ANY KIND, either express or implied.\n",
              "// See the License for the specific language governing permissions and\n",
              "// limitations under the License.\n",
              "\n",
              "/**\n",
              " * @fileoverview Helpers for google.colab Python module.\n",
              " */\n",
              "(function(scope) {\n",
              "function span(text, styleAttributes = {}) {\n",
              "  const element = document.createElement('span');\n",
              "  element.textContent = text;\n",
              "  for (const key of Object.keys(styleAttributes)) {\n",
              "    element.style[key] = styleAttributes[key];\n",
              "  }\n",
              "  return element;\n",
              "}\n",
              "\n",
              "// Max number of bytes which will be uploaded at a time.\n",
              "const MAX_PAYLOAD_SIZE = 100 * 1024;\n",
              "\n",
              "function _uploadFiles(inputId, outputId) {\n",
              "  const steps = uploadFilesStep(inputId, outputId);\n",
              "  const outputElement = document.getElementById(outputId);\n",
              "  // Cache steps on the outputElement to make it available for the next call\n",
              "  // to uploadFilesContinue from Python.\n",
              "  outputElement.steps = steps;\n",
              "\n",
              "  return _uploadFilesContinue(outputId);\n",
              "}\n",
              "\n",
              "// This is roughly an async generator (not supported in the browser yet),\n",
              "// where there are multiple asynchronous steps and the Python side is going\n",
              "// to poll for completion of each step.\n",
              "// This uses a Promise to block the python side on completion of each step,\n",
              "// then passes the result of the previous step as the input to the next step.\n",
              "function _uploadFilesContinue(outputId) {\n",
              "  const outputElement = document.getElementById(outputId);\n",
              "  const steps = outputElement.steps;\n",
              "\n",
              "  const next = steps.next(outputElement.lastPromiseValue);\n",
              "  return Promise.resolve(next.value.promise).then((value) => {\n",
              "    // Cache the last promise value to make it available to the next\n",
              "    // step of the generator.\n",
              "    outputElement.lastPromiseValue = value;\n",
              "    return next.value.response;\n",
              "  });\n",
              "}\n",
              "\n",
              "/**\n",
              " * Generator function which is called between each async step of the upload\n",
              " * process.\n",
              " * @param {string} inputId Element ID of the input file picker element.\n",
              " * @param {string} outputId Element ID of the output display.\n",
              " * @return {!Iterable<!Object>} Iterable of next steps.\n",
              " */\n",
              "function* uploadFilesStep(inputId, outputId) {\n",
              "  const inputElement = document.getElementById(inputId);\n",
              "  inputElement.disabled = false;\n",
              "\n",
              "  const outputElement = document.getElementById(outputId);\n",
              "  outputElement.innerHTML = '';\n",
              "\n",
              "  const pickedPromise = new Promise((resolve) => {\n",
              "    inputElement.addEventListener('change', (e) => {\n",
              "      resolve(e.target.files);\n",
              "    });\n",
              "  });\n",
              "\n",
              "  const cancel = document.createElement('button');\n",
              "  inputElement.parentElement.appendChild(cancel);\n",
              "  cancel.textContent = 'Cancel upload';\n",
              "  const cancelPromise = new Promise((resolve) => {\n",
              "    cancel.onclick = () => {\n",
              "      resolve(null);\n",
              "    };\n",
              "  });\n",
              "\n",
              "  // Wait for the user to pick the files.\n",
              "  const files = yield {\n",
              "    promise: Promise.race([pickedPromise, cancelPromise]),\n",
              "    response: {\n",
              "      action: 'starting',\n",
              "    }\n",
              "  };\n",
              "\n",
              "  cancel.remove();\n",
              "\n",
              "  // Disable the input element since further picks are not allowed.\n",
              "  inputElement.disabled = true;\n",
              "\n",
              "  if (!files) {\n",
              "    return {\n",
              "      response: {\n",
              "        action: 'complete',\n",
              "      }\n",
              "    };\n",
              "  }\n",
              "\n",
              "  for (const file of files) {\n",
              "    const li = document.createElement('li');\n",
              "    li.append(span(file.name, {fontWeight: 'bold'}));\n",
              "    li.append(span(\n",
              "        `(${file.type || 'n/a'}) - ${file.size} bytes, ` +\n",
              "        `last modified: ${\n",
              "            file.lastModifiedDate ? file.lastModifiedDate.toLocaleDateString() :\n",
              "                                    'n/a'} - `));\n",
              "    const percent = span('0% done');\n",
              "    li.appendChild(percent);\n",
              "\n",
              "    outputElement.appendChild(li);\n",
              "\n",
              "    const fileDataPromise = new Promise((resolve) => {\n",
              "      const reader = new FileReader();\n",
              "      reader.onload = (e) => {\n",
              "        resolve(e.target.result);\n",
              "      };\n",
              "      reader.readAsArrayBuffer(file);\n",
              "    });\n",
              "    // Wait for the data to be ready.\n",
              "    let fileData = yield {\n",
              "      promise: fileDataPromise,\n",
              "      response: {\n",
              "        action: 'continue',\n",
              "      }\n",
              "    };\n",
              "\n",
              "    // Use a chunked sending to avoid message size limits. See b/62115660.\n",
              "    let position = 0;\n",
              "    do {\n",
              "      const length = Math.min(fileData.byteLength - position, MAX_PAYLOAD_SIZE);\n",
              "      const chunk = new Uint8Array(fileData, position, length);\n",
              "      position += length;\n",
              "\n",
              "      const base64 = btoa(String.fromCharCode.apply(null, chunk));\n",
              "      yield {\n",
              "        response: {\n",
              "          action: 'append',\n",
              "          file: file.name,\n",
              "          data: base64,\n",
              "        },\n",
              "      };\n",
              "\n",
              "      let percentDone = fileData.byteLength === 0 ?\n",
              "          100 :\n",
              "          Math.round((position / fileData.byteLength) * 100);\n",
              "      percent.textContent = `${percentDone}% done`;\n",
              "\n",
              "    } while (position < fileData.byteLength);\n",
              "  }\n",
              "\n",
              "  // All done.\n",
              "  yield {\n",
              "    response: {\n",
              "      action: 'complete',\n",
              "    }\n",
              "  };\n",
              "}\n",
              "\n",
              "scope.google = scope.google || {};\n",
              "scope.google.colab = scope.google.colab || {};\n",
              "scope.google.colab._files = {\n",
              "  _uploadFiles,\n",
              "  _uploadFilesContinue,\n",
              "};\n",
              "})(self);\n",
              "</script> "
            ]
          },
          "metadata": {}
        },
        {
          "output_type": "stream",
          "name": "stdout",
          "text": [
            "Saving 과제데이터.xlsx to 과제데이터 (1).xlsx\n"
          ]
        }
      ],
      "source": [
        "import pandas as pd\n",
        "import re\n",
        "from google.colab import files\n",
        "\n",
        "# 엑셀 파일 업로드\n",
        "uploaded = files.upload()"
      ]
    },
    {
      "cell_type": "markdown",
      "id": "79b467bf",
      "metadata": {
        "id": "79b467bf"
      },
      "source": [
        "## 🔹 2. 엑셀 파일 읽기 및 키워드 매핑 설정"
      ]
    },
    {
      "cell_type": "code",
      "execution_count": 10,
      "id": "ed9b5780",
      "metadata": {
        "id": "ed9b5780"
      },
      "outputs": [],
      "source": [
        "# 업로드한 파일명을 자동 인식하여 불러오기\n",
        "file_path = list(uploaded.keys())[0]\n",
        "df = pd.read_excel(file_path)\n",
        "\n",
        "# 질의 분석을 위한 키워드 매핑\n",
        "keyword_column_map = {\n",
        "    \"출원인\": \"출원인\",\n",
        "    \"출원인 원문\": \"출원인(원문)\",\n",
        "    \"출원인 국적\": \"출원인 국적\",\n",
        "    \"발명자\": \"발명자\",\n",
        "    \"출원일\": \"출원일\",\n",
        "    \"출원번호\": \"출원번호\",\n",
        "    \"등록번호\": \"등록번호\",\n",
        "    \"공개번호\": \"공개번호\",\n",
        "    \"공개일\": \"공개일\",\n",
        "    \"공고번호\": \"공고번호\",\n",
        "    \"메인 IPC\": \"메인IPC2\",\n",
        "    \"전체 IPC\": \"전체 IPC\",\n",
        "    \"요약\": \"요약\",\n",
        "    \"발명의 명칭\": \"발명의 명칭\",\n",
        "    \"대표청구항\": \"대표청구항\",\n",
        "    \"청구항 수\": \"청구항 수\",\n",
        "    \"법적상태\": \"법적상태\",\n",
        "    \"현재권리자\": \"현재권리자\",\n",
        "    \"문헌종류 코드\": \"문헌종류 코드\",\n",
        "    \"피인용문헌 수\": \"피인용문헌 수\",\n",
        "    \"국가별 피특허인용 수\": \"국가별 피특허인용 수\"\n",
        "}\n",
        "\n",
        "# 국적 맵핑\n",
        "nationality_map = {\"한국\": \"KR\", \"미국\": \"US\", \"일본\": \"JP\", \"중국\": \"CN\"}"
      ]
    },
    {
      "cell_type": "markdown",
      "id": "dadadbfd",
      "metadata": {
        "id": "dadadbfd"
      },
      "source": [
        "## 🔹 3. 질문 분석 함수 정의"
      ]
    },
    {
      "cell_type": "code",
      "execution_count": 11,
      "id": "1k3L0IFCXVRh",
      "metadata": {
        "id": "1k3L0IFCXVRh"
      },
      "outputs": [],
      "source": [
        "def clean_question_text(text):\n",
        "    replacements = {\n",
        "        # 복합 키워드 우선 처리\n",
        "        \"출원인 국적이 \": \"출원인 국적 \",\n",
        "        \"출원인 국적은 \": \"출원인 국적 \",\n",
        "        \"출원인 국적인 \": \"출원인 국적 \",\n",
        "        \"출원인 국적을 \": \"출원인 국적 \",\n",
        "        \"출원인 국적 한국인\": \"출원인 국적 한국\",\n",
        "        \"출원인 국적 한국 몇명인지\": \"출원인 국적 한국 몇명\",  # ✅ 추가\n",
        "        \"몇명인지\": \"몇명\",\n",
        "        \"몇 명인지\": \"몇명\",\n",
        "\n",
        "        # 일반 조사 제거\n",
        "        \"이 \": \" \", \"가 \": \" \", \"에 \": \" \", \"는 \": \" \", \"을 \": \" \", \"를 \": \" \",\n",
        "        \"특허 \": \" \", \"사람 \": \" \",\n",
        "        \"보여줘\": \"\", \"알려줘\": \"\", \"찾아줘\": \"\", \"포함된\": \"\",\n",
        "        \"자료\": \"\", \"목록\": \"\"\n",
        "    }\n",
        "    for k, v in replacements.items():\n",
        "        text = text.replace(k, v)\n",
        "    return text.strip()\n"
      ]
    },
    {
      "cell_type": "code",
      "execution_count": 12,
      "id": "52aeca70",
      "metadata": {
        "id": "52aeca70"
      },
      "outputs": [],
      "source": [
        "def parse_question(question):\n",
        "    question = clean_question_text(question)\n",
        "    print(\"[전처리 결과]:\", question)\n",
        "    ipc_match = re.search(r\"[A-H][0-9]{2}[A-Z]-[0-9]{2,3}/[0-9]{2}\", question)\n",
        "    sorted_keywords = sorted(keyword_column_map.keys(), key=lambda x: -len(x))\n",
        "    for keyword in sorted_keywords:\n",
        "        if keyword in question:\n",
        "            col = keyword_column_map[keyword]\n",
        "            if col == \"출원일\" and re.search(r\"\\d{4}\\.\\d{2}\\.\\d{2}\", question):\n",
        "                return col, \"DATE_RANGE\"\n",
        "            if ipc_match:\n",
        "                return col, ipc_match.group()\n",
        "            if \"'\" in question:\n",
        "                value = question.split(\"'\")[1]\n",
        "            else:\n",
        "                value = question.replace(keyword, \"\").strip().split()[0]\n",
        "            return col, value\n",
        "    return None, None\n",
        "\n",
        "def normalize_value(col, value):\n",
        "    if col == \"출원인 국적\":\n",
        "        return nationality_map.get(value, value)\n",
        "    return value"
      ]
    },
    {
      "cell_type": "markdown",
      "id": "ac630e93",
      "metadata": {
        "id": "ac630e93"
      },
      "source": [
        "## 🔹 4. 질의 처리 및 결과 출력 함수"
      ]
    },
    {
      "cell_type": "code",
      "execution_count": 13,
      "id": "c882522a",
      "metadata": {
        "id": "c882522a"
      },
      "outputs": [],
      "source": [
        "def search_and_print(df, question):\n",
        "    col, value = parse_question(question)\n",
        "    if col is None:\n",
        "        print(\"⚠️ 어떤 조건을 찾을지 질문에서 이해하지 못했어요.\")\n",
        "        return\n",
        "    value = normalize_value(col, value)\n",
        "\n",
        "    if col == \"출원일\" and value == \"DATE_RANGE\":\n",
        "        try:\n",
        "            dates = re.findall(r\"\\d{4}\\.\\d{2}\\.\\d{2}\", question)\n",
        "            if len(dates) == 2:\n",
        "                start_date = pd.to_datetime(dates[0])\n",
        "                end_date = pd.to_datetime(dates[1])\n",
        "                df[col] = pd.to_datetime(df[col], errors='coerce')\n",
        "                result = df[(df[col] >= start_date) & (df[col] <= end_date)]\n",
        "            else:\n",
        "                print(\"⚠️ 날짜가 2개가 아닙니다.\")\n",
        "                return\n",
        "        except Exception as e:\n",
        "            print(\"⚠️ 날짜 처리 중 오류가 발생했습니다:\", e)\n",
        "            return\n",
        "    else:\n",
        "        result = df[df[col].astype(str).str.contains(value, regex=False, na=False)]\n",
        "\n",
        "    # ✅ 수량 질의 감지\n",
        "    if any(k in question for k in [\"몇\", \"몇개\", \"몇 명\", \"개야\", \"얼마나\"]):\n",
        "        print(f\"🔢 총 {len(result)}개가 검색되었습니다.\")\n",
        "        return\n",
        "\n",
        "    if result.empty:\n",
        "        print(f\"❌ '{value}'(이)가 포함된 결과를 찾을 수 없습니다.\")\n",
        "    else:\n",
        "        print(f\"📌 질문: {question}\\n📄 검색 결과:\")\n",
        "        for _, row in result.iterrows():\n",
        "            print(\"─────────────────────────────\")\n",
        "            print(\"• 출원번호 :\", row.get(\"출원번호\", \"정보 없음\"))\n",
        "            print(\"• 출원일   :\", row.get(\"출원일\", \"정보 없음\"))\n",
        "            print(\"• 메인 IPC :\", row.get(\"메인IPC2\", \"정보 없음\"))\n",
        "            print(\"• 전체 IPC :\", row.get(\"전체 IPC\", \"정보 없음\"))\n",
        "            print(\"• 발명의 명칭:\", row.get(\"발명의 명칭\", \"정보 없음\"))\n",
        "            print(\"• 요약정보 :\", row.get(\"요약\", \"정보 없음\"))\n",
        "            print(\"• 법적상태 :\", row.get(\"법적상태\", \"정보 없음\"))\n",
        "            print(\"• 출원인   :\", row.get(\"출원인\", \"정보 없음\"))\n",
        "            print(\"• 발명자   :\", row.get(\"발명자\", \"정보 없음\"))"
      ]
    },
    {
      "cell_type": "markdown",
      "id": "ecc89989",
      "metadata": {
        "id": "ecc89989"
      },
      "source": [
        "## 🔹 5. 질문 입력 및 실행"
      ]
    },
    {
      "cell_type": "code",
      "execution_count": 14,
      "id": "aea78a7b",
      "metadata": {
        "colab": {
          "base_uri": "https://localhost:8080/"
        },
        "id": "aea78a7b",
        "outputId": "33120f00-625d-46a5-c9b5-b7588ff2fd50"
      },
      "outputs": [
        {
          "output_type": "stream",
          "name": "stdout",
          "text": [
            "자연어 질문을 입력하세요: 출원인 국적 한국 몇명인지 알려줘\n",
            "[전처리 결과]: 출원인 국적 한국 몇명\n",
            "🔢 총 2370개가 검색되었습니다.\n"
          ]
        }
      ],
      "source": [
        "question = input(\"자연어 질문을 입력하세요: \")\n",
        "search_and_print(df, question)"
      ]
    }
  ],
  "metadata": {
    "colab": {
      "provenance": []
    },
    "kernelspec": {
      "display_name": "Python 3",
      "name": "python3"
    },
    "language_info": {
      "name": "python"
    }
  },
  "nbformat": 4,
  "nbformat_minor": 5
}